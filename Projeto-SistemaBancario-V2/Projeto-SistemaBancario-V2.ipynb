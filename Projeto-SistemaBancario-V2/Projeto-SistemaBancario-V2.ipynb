{
 "cells": [
  {
   "cell_type": "code",
   "execution_count": 1,
   "id": "5cfb47f9",
   "metadata": {},
   "outputs": [],
   "source": [
    "from datetime import datetime\n",
    "import itertools"
   ]
  },
  {
   "cell_type": "code",
   "execution_count": 2,
   "id": "4621df92",
   "metadata": {},
   "outputs": [],
   "source": [
    "menu_principal = \"\"\"\n",
    "[c] Cadastrar Conta\n",
    "[l] Listar Contas\n",
    "[d] Depositar\n",
    "[s] Sacar\n",
    "[e] Extrato\n",
    "[q] Sair\n",
    "\n",
    "=> \"\"\""
   ]
  },
  {
   "cell_type": "code",
   "execution_count": 3,
   "id": "2faba87e",
   "metadata": {},
   "outputs": [],
   "source": [
    "contas = {}\n",
    "id_conta_generator = itertools.count(1)  # Inicia o contador a partir de 1\n",
    "\n",
    "def formatar_cpf(cpf):\n",
    "    return f\"{cpf[:3]}.{cpf[3:6]}.{cpf[6:9]}-{cpf[9:]}\"\n",
    "\n",
    "def formatar_data(data):\n",
    "    return f\"{data[:2]}/{data[2:4]}/{data[4:]}\"\n",
    "\n",
    "def cadastrar_conta():\n",
    "    while True:\n",
    "        nome = input(\"Informe o nome completo do titular: \")\n",
    "        cpf = input(\"Informe o CPF (somente números): \")\n",
    "        if len(cpf) != 11 or not cpf.isdigit():\n",
    "            print(\"CPF inválido! Deve conter 11 dígitos numéricos.\")\n",
    "            continue\n",
    "        cpf_formatado = formatar_cpf(cpf)\n",
    "        \n",
    "        data_nascimento = input(\"Informe a data de nascimento (ddmmaaaa): \")\n",
    "        if len(data_nascimento) != 8 or not data_nascimento.isdigit():\n",
    "            print(\"Data de nascimento inválida! Deve conter 8 dígitos numéricos.\")\n",
    "            continue\n",
    "        data_nascimento_formatada = formatar_data(data_nascimento)\n",
    "        \n",
    "        id_conta = next(id_conta_generator)  # Gera um novo ID único e sequencial\n",
    "        \n",
    "        contas[id_conta] = {\n",
    "            \"nome\": nome,\n",
    "            \"cpf\": cpf_formatado,\n",
    "            \"data_nascimento\": data_nascimento_formatada,\n",
    "            \"saldo\": 0,\n",
    "            \"extrato\": \"\",\n",
    "            \"numero_saques\": 0,\n",
    "            \"transacoes_diarias\": 0,\n",
    "            \"saques_diarios\": 0,\n",
    "            \"data_ultima_transacao\": None\n",
    "        }\n",
    "        print(f\"Conta de {nome} cadastrada com sucesso! ID da conta: {id_conta}\")\n",
    "        break"
   ]
  },
  {
   "cell_type": "code",
   "execution_count": 4,
   "id": "195b1b17",
   "metadata": {},
   "outputs": [],
   "source": [
    "def listar_contas():\n",
    "    if not contas:\n",
    "        print(\"Nenhuma conta cadastrada.\")\n",
    "    else:\n",
    "        print(\"\\n========== CONTAS ==========\")\n",
    "        for id_conta, info in contas.items():\n",
    "            print(f\"ID: {id_conta}, Nome: {info['nome']}, CPF: {info['cpf']}, Data de Nascimento: {info['data_nascimento']}\")\n",
    "        print(\"============================\")"
   ]
  },
  {
   "cell_type": "code",
   "execution_count": 5,
   "id": "19a889a3",
   "metadata": {},
   "outputs": [],
   "source": [
    "def selecionar_conta():\n",
    "    listar_contas()\n",
    "    id_conta = int(input(\"Informe o ID da conta: \"))\n",
    "    if id_conta in contas:\n",
    "        return id_conta\n",
    "    else:\n",
    "        print(\"Conta não encontrada.\")\n",
    "        return None"
   ]
  },
  {
   "cell_type": "code",
   "execution_count": 6,
   "id": "c13ddeaa",
   "metadata": {},
   "outputs": [],
   "source": [
    "def verificar_limite_transacoes(conta):\n",
    "    hoje = datetime.now().date()\n",
    "    if conta[\"data_ultima_transacao\"] != hoje:\n",
    "        conta[\"transacoes_diarias\"] = 0\n",
    "        conta[\"saques_diarios\"] = 0\n",
    "        conta[\"data_ultima_transacao\"] = hoje\n",
    "\n",
    "    if conta[\"transacoes_diarias\"] >= 10:\n",
    "        print(\"Operação falhou! Você excedeu o número de transações permitidas para hoje.\")\n",
    "        return False\n",
    "    return True"
   ]
  },
  {
   "cell_type": "code",
   "execution_count": 7,
   "id": "6c3326bf",
   "metadata": {},
   "outputs": [],
   "source": [
    "def depositar():\n",
    "    id_conta = selecionar_conta()\n",
    "    if id_conta is None:\n",
    "        return\n",
    "    conta = contas[id_conta]\n",
    "    if not verificar_limite_transacoes(conta):\n",
    "        return\n",
    "    valor = float(input(\"Informe o valor do depósito: \"))\n",
    "    if valor > 0:\n",
    "        conta[\"saldo\"] += valor\n",
    "        data_hora = datetime.now().strftime(\"%d/%m/%Y %H:%M:%S\")\n",
    "        conta[\"extrato\"] += f\"{data_hora} - Depósito: R$ {valor:.2f}\\n\"\n",
    "        conta[\"transacoes_diarias\"] += 1\n",
    "        print(\"Depósito realizado com sucesso!\")\n",
    "    else:\n",
    "        print(\"Operação falhou! O valor informado é inválido.\")"
   ]
  },
  {
   "cell_type": "code",
   "execution_count": 8,
   "id": "38673338",
   "metadata": {},
   "outputs": [],
   "source": [
    "def sacar():\n",
    "    id_conta = selecionar_conta()\n",
    "    if id_conta is None:\n",
    "        return\n",
    "    conta = contas[id_conta]\n",
    "    if not verificar_limite_transacoes(conta):\n",
    "        return\n",
    "    if conta[\"saques_diarios\"] >= 3:\n",
    "        print(\"Operação falhou! Número máximo de saques diários excedido.\")\n",
    "        return\n",
    "    valor = float(input(\"Informe o valor do saque: \"))\n",
    "\n",
    "    excedeu_saldo = valor > conta[\"saldo\"]\n",
    "    excedeu_limite = valor > 500\n",
    "\n",
    "    if excedeu_saldo:\n",
    "        print(\"Operação falhou! Você não tem saldo suficiente.\")\n",
    "    elif excedeu_limite:\n",
    "        print(\"Operação falhou! O valor do saque excede o limite.\")\n",
    "    elif valor > 0:\n",
    "        conta[\"saldo\"] -= valor\n",
    "        data_hora = datetime.now().strftime(\"%d/%m/%Y %H:%M:%S\")\n",
    "        conta[\"extrato\"] += f\"{data_hora} - Saque: R$ {valor:.2f}\\n\"\n",
    "        conta[\"numero_saques\"] += 1\n",
    "        conta[\"transacoes_diarias\"] += 1\n",
    "        conta[\"saques_diarios\"] += 1\n",
    "        print(\"Saque realizado com sucesso!\")\n",
    "    else:\n",
    "        print(\"Operação falhou! O valor informado é inválido.\")"
   ]
  },
  {
   "cell_type": "code",
   "execution_count": 9,
   "id": "cea75034",
   "metadata": {},
   "outputs": [],
   "source": [
    "def extrato():\n",
    "    id_conta = selecionar_conta()\n",
    "    if id_conta is None:\n",
    "        return\n",
    "    conta = contas[id_conta]\n",
    "    print(\"\\n========== EXTRATO ==========\")\n",
    "    print(\"Não foram realizadas movimentações.\" if not conta[\"extrato\"] else conta[\"extrato\"])\n",
    "    print(f\"\\nSaldo: R$ {conta['saldo']:.2f}\")\n",
    "    print(\"=============================\")"
   ]
  },
  {
   "cell_type": "code",
   "execution_count": null,
   "id": "21927b9e",
   "metadata": {},
   "outputs": [],
   "source": [
    "while True:\n",
    "    opcao = input(menu_principal)\n",
    "\n",
    "    if opcao == \"c\":\n",
    "        cadastrar_conta()\n",
    "    elif opcao == \"l\":\n",
    "        listar_contas()\n",
    "    elif opcao == \"d\":\n",
    "        depositar()\n",
    "    elif opcao == \"s\":\n",
    "        sacar()\n",
    "    elif opcao == \"e\":\n",
    "        extrato()\n",
    "    elif opcao == \"q\":\n",
    "        break\n",
    "    else:\n",
    "        print(\"Operação inválida! Por favor, selecione novamente a operação desejada.\")"
   ]
  },
  {
   "cell_type": "code",
   "execution_count": null,
   "id": "c7a23891",
   "metadata": {},
   "outputs": [],
   "source": []
  }
 ],
 "metadata": {
  "kernelspec": {
   "display_name": "Python 3 (ipykernel)",
   "language": "python",
   "name": "python3"
  },
  "language_info": {
   "codemirror_mode": {
    "name": "ipython",
    "version": 3
   },
   "file_extension": ".py",
   "mimetype": "text/x-python",
   "name": "python",
   "nbconvert_exporter": "python",
   "pygments_lexer": "ipython3",
   "version": "3.9.13"
  }
 },
 "nbformat": 4,
 "nbformat_minor": 5
}
